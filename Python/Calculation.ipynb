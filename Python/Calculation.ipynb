{
 "cells": [
  {
   "cell_type": "code",
   "execution_count": 3,
   "metadata": {},
   "outputs": [],
   "source": [
    "import numpy as np\n",
    "import sympy as sp\n",
    "\n",
    "def matrix_to_latex(matrix, env=\"bmatrix\"):\n",
    "    \"\"\"\n",
    "    将 NumPy 矩阵转换为 LaTeX 形式\n",
    "    :param matrix: np.array 或 np.matrix\n",
    "    :param env: LaTeX 矩阵环境，默认为 'bmatrix'\n",
    "                可选项: 'bmatrix', 'pmatrix', 'vmatrix', 'Vmatrix', 'matrix'\n",
    "    :return: LaTeX 格式的矩阵字符串\n",
    "    \"\"\"\n",
    "    if not isinstance(matrix, (np.ndarray, np.matrix)):\n",
    "        raise ValueError(\"输入必须是 NumPy 数组或矩阵\")\n",
    "    \n",
    "    # 确保转换为2D数组\n",
    "    matrix = np.array(matrix)\n",
    "\n",
    "    rows = [\" & \".join(map(str, row.tolist())) for row in matrix]\n",
    "    latex_str = f\"\\\\begin{{{env}}}\\n\" + \"\\\\\\\\\\n\".join(rows) + f\"\\n\\\\end{{{env}}}\"\n",
    "    \n",
    "    return latex_str\n",
    "\n",
    "def print_as_latex(matrix, env=\"pmatrix\"):\n",
    "    \"\"\"\n",
    "    打印 NumPy 矩阵的 LaTeX 形式\n",
    "    :param matrix: np.array 或 np.matrix\n",
    "    :param env: LaTeX 矩阵环境，默认为 'pmatrix'\n",
    "                可选项: 'bmatrix', 'pmatrix', 'vmatrix', 'Vmatrix', 'matrix'\n",
    "    \"\"\"\n",
    "    latex_str = matrix_to_latex(matrix, env)\n",
    "    print(latex_str)"
   ]
  },
  {
   "cell_type": "code",
   "execution_count": 9,
   "metadata": {},
   "outputs": [],
   "source": [
    "A1 = sp.Matrix([    \n",
    "    [1, 0, 1],\n",
    "    [1, -2, -1],\n",
    "    [2, 1, 3],\n",
    "    [1, 0, 1]\n",
    "])\n",
    "A2 = sp.Matrix([\n",
    "    [3, -3, 0],\n",
    "    [1, 2, 3],\n",
    "    [7, -5, 2],\n",
    "    [3, -1, 2]\n",
    "])\n",
    "A3 = sp.Matrix([\n",
    "    [1, 1, 2, 1],\n",
    "    [0, -2, 1, 0],\n",
    "    [3, 1, 7, 3],\n",
    "    [-3, 2, -5, -1]\n",
    "]).T"
   ]
  },
  {
   "cell_type": "code",
   "execution_count": 10,
   "metadata": {},
   "outputs": [
    {
     "name": "stdout",
     "output_type": "stream",
     "text": [
      "\\left[\\begin{matrix}1 & 0 & 3 & 0\\\\0 & 1 & 1 & 0\\\\0 & 0 & 0 & 1\\\\0 & 0 & 0 & 0\\end{matrix}\\right]\n"
     ]
    }
   ],
   "source": [
    "print(sp.latex(A3\n",
    "               .rref()[0]))\n"
   ]
  }
 ],
 "metadata": {
  "kernelspec": {
   "display_name": "base",
   "language": "python",
   "name": "python3"
  },
  "language_info": {
   "codemirror_mode": {
    "name": "ipython",
    "version": 3
   },
   "file_extension": ".py",
   "mimetype": "text/x-python",
   "name": "python",
   "nbconvert_exporter": "python",
   "pygments_lexer": "ipython3",
   "version": "3.12.7"
  }
 },
 "nbformat": 4,
 "nbformat_minor": 2
}
